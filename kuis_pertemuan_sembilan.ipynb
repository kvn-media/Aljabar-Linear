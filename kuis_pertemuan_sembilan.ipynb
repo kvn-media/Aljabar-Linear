{
 "cells": [
  {
   "cell_type": "code",
   "execution_count": 2,
   "metadata": {},
   "outputs": [
    {
     "name": "stdout",
     "output_type": "stream",
     "text": [
      "Matrix P:\n"
     ]
    },
    {
     "data": {
      "text/latex": [
       "$\\displaystyle \\left[\\begin{matrix}2 & 1 & 1\\\\1 & 2 & 1\\\\1 & 1 & 2\\end{matrix}\\right]$"
      ],
      "text/plain": [
       "Matrix([\n",
       "[2, 1, 1],\n",
       "[1, 2, 1],\n",
       "[1, 1, 2]])"
      ]
     },
     "metadata": {},
     "output_type": "display_data"
    },
    {
     "name": "stdout",
     "output_type": "stream",
     "text": [
      "\n",
      "Adjoint matrix of P:\n"
     ]
    },
    {
     "data": {
      "text/latex": [
       "$\\displaystyle \\left[\\begin{matrix}2 & 1 & 1\\\\1 & 2 & 1\\\\1 & 1 & 2\\end{matrix}\\right]$"
      ],
      "text/plain": [
       "Matrix([\n",
       "[2, 1, 1],\n",
       "[1, 2, 1],\n",
       "[1, 1, 2]])"
      ]
     },
     "metadata": {},
     "output_type": "display_data"
    },
    {
     "name": "stdout",
     "output_type": "stream",
     "text": [
      "\n",
      "Matrix Q:\n"
     ]
    },
    {
     "data": {
      "text/latex": [
       "$\\displaystyle \\left[\\begin{matrix}3 & -2 & 0\\\\0 & 1 & 0\\\\-4 & 4 & 1\\end{matrix}\\right]$"
      ],
      "text/plain": [
       "Matrix([\n",
       "[ 3, -2, 0],\n",
       "[ 0,  1, 0],\n",
       "[-4,  4, 1]])"
      ]
     },
     "metadata": {},
     "output_type": "display_data"
    },
    {
     "name": "stdout",
     "output_type": "stream",
     "text": [
      "\n",
      "Adjoint matrix of Q:\n"
     ]
    },
    {
     "data": {
      "text/latex": [
       "$\\displaystyle \\left[\\begin{matrix}3 & 0 & -4\\\\-2 & 1 & 4\\\\0 & 0 & 1\\end{matrix}\\right]$"
      ],
      "text/plain": [
       "Matrix([\n",
       "[ 3, 0, -4],\n",
       "[-2, 1,  4],\n",
       "[ 0, 0,  1]])"
      ]
     },
     "metadata": {},
     "output_type": "display_data"
    }
   ],
   "source": [
    "from sympy import Matrix\n",
    "\n",
    "# Define matrices P and Q\n",
    "P = Matrix([[2, 1, 1], [1, 2, 1], [1, 1, 2]])\n",
    "Q = Matrix([[3, -2, 0], [0, 1, 0], [-4, 4, 1]])\n",
    "\n",
    "# Calculate the adjoint matrix for P and Q\n",
    "adj_P = P.adjoint()\n",
    "adj_Q = Q.adjoint()\n",
    "\n",
    "# Print the matrices and their adjoints\n",
    "print(\"Matrix P:\")\n",
    "display(P)\n",
    "\n",
    "print(\"\\nAdjoint matrix of P:\")\n",
    "display(adj_P)\n",
    "\n",
    "print(\"\\nMatrix Q:\")\n",
    "display(Q)\n",
    "\n",
    "print(\"\\nAdjoint matrix of Q:\")\n",
    "display(adj_Q)\n"
   ]
  },
  {
   "cell_type": "markdown",
   "metadata": {},
   "source": [
    "Pendefinisian Matriks: Kami menggunakan kelas Matrix dari pustaka sympy untuk mendefinisikan matriks P dan Q.\n",
    "\n",
    "Perhitungan Adjoin: Metode adjoint() digunakan untuk menghitung matriks adjoin untuk P dan Q. Metode ini secara otomatis menghitung matriks kofaktor dan mentransposenya untuk mendapatkan matriks adjoin.\n",
    "\n",
    "Menampilkan Hasil: Kami mencetak matriks asli (P dan Q) beserta matriks adjoin mereka masing-masing."
   ]
  }
 ],
 "metadata": {
  "kernelspec": {
   "display_name": "Python 3",
   "language": "python",
   "name": "python3"
  },
  "language_info": {
   "codemirror_mode": {
    "name": "ipython",
    "version": 3
   },
   "file_extension": ".py",
   "mimetype": "text/x-python",
   "name": "python",
   "nbconvert_exporter": "python",
   "pygments_lexer": "ipython3",
   "version": "3.12.0"
  }
 },
 "nbformat": 4,
 "nbformat_minor": 2
}
