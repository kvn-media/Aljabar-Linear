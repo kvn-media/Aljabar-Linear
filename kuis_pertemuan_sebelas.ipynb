{
 "cells": [
  {
   "cell_type": "code",
   "execution_count": 4,
   "metadata": {},
   "outputs": [
    {
     "name": "stdout",
     "output_type": "stream",
     "text": [
      "Solusi dari sistem persamaan linier homogen:\n"
     ]
    },
    {
     "data": {
      "text/latex": [
       "$\\displaystyle \\left\\{\\left( - \\frac{10 x_{3}}{7}, \\  \\frac{x_{3}}{7}, \\  x_{3}\\right)\\right\\}$"
      ],
      "text/plain": [
       "{(-10*x3/7, x3/7, x3)}"
      ]
     },
     "metadata": {},
     "output_type": "display_data"
    }
   ],
   "source": [
    "from sympy import symbols, Eq, linsolve\n",
    "\n",
    "# Langkah 2: Tentukan simbol-simbol\n",
    "x1, x2, x3 = symbols('x1 x2 x3')\n",
    "\n",
    "# Langkah 3: Bentuk matriks koefisien\n",
    "matrix_coefficients = [\n",
    "    [2, -1, 3],\n",
    "    [-1, 4, -2],\n",
    "    [1, 3, 1]\n",
    "]\n",
    "\n",
    "# Langkah 4: Bentuk persamaan linier dan cari solusinya\n",
    "system_eqs = [Eq(sum(matrix_coefficients[i][j] * symbols(f'x{j+1}') for j in range(3)), 0) for i in range(3)]\n",
    "solution = linsolve(system_eqs, x1, x2, x3)\n",
    "\n",
    "# Tampilkan solusi\n",
    "print(\"Solusi dari sistem persamaan linier homogen:\")\n",
    "display(solution)\n"
   ]
  },
  {
   "cell_type": "markdown",
   "metadata": {},
   "source": [
    "# Solusi Sistem Persamaan Linier Homogen\n",
    "\n",
    "Kita memiliki sistem persamaan linier homogen dengan matriks koefisien sebagai berikut:\n",
    "\n",
    "\\[ \\begin{align*}\n",
    "2x_1 - x_2 + 3x_3 &= 0 \\\\\n",
    "-x_1 + 4x_2 - 2x_3 &= 0 \\\\\n",
    "x_1 + 3x_2 + x_3 &= 0 \\\\\n",
    "\\end{align*} \\]\n",
    "\n",
    "Kode Python menggunakan pustaka `sympy` untuk mencari solusi dari sistem ini. Output dari kode tersebut memberikan informasi tentang solusi-solusi yang mungkin.\n",
    "\n",
    "## Solusi Trivial\n",
    "Jika solusi yang ditemukan adalah \\(\\{(0, 0, 0)\\}\\), itu berarti satu-satunya solusi yang ada adalah ketika semua variabel diatur ke nilai nol. Ini disebut solusi trivial.\n",
    "\n",
    "## Solusi Non-Trivial\n",
    "Jika solusi yang ditemukan tidak hanya \\(\\{(0, 0, 0)\\}\\), itu berarti sistem memiliki solusi non-trivial. Artinya, terdapat nilai-nilai \\(x_1, x_2, x_3\\) selain nol yang memenuhi ketiga persamaan tersebut.\n",
    "\n",
    "Jadi, ketika Anda menjalankan kode tersebut, output yang Anda lihat memberikan informasi tentang solusi dari sistem persamaan linier homogen tersebut. Jika Anda mendapatkan \\(\\{(0, 0, 0)\\}\\), itu berarti hanya ada solusi trivial. Namun, jika Anda melihat angka-angka selain nol, itu menunjukkan bahwa sistem memiliki solusi non-trivial.\n"
   ]
  }
 ],
 "metadata": {
  "kernelspec": {
   "display_name": "Python 3",
   "language": "python",
   "name": "python3"
  },
  "language_info": {
   "codemirror_mode": {
    "name": "ipython",
    "version": 3
   },
   "file_extension": ".py",
   "mimetype": "text/x-python",
   "name": "python",
   "nbconvert_exporter": "python",
   "pygments_lexer": "ipython3",
   "version": "3.12.0"
  }
 },
 "nbformat": 4,
 "nbformat_minor": 2
}
