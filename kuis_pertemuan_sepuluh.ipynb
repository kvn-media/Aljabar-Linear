{
 "cells": [
  {
   "cell_type": "code",
   "execution_count": 1,
   "metadata": {},
   "outputs": [
    {
     "name": "stdout",
     "output_type": "stream",
     "text": [
      "Inverse of matrix P:\n"
     ]
    },
    {
     "data": {
      "text/latex": [
       "$\\displaystyle \\left[\\begin{matrix}\\frac{3}{4} & - \\frac{1}{4} & - \\frac{1}{4}\\\\- \\frac{1}{4} & \\frac{3}{4} & - \\frac{1}{4}\\\\- \\frac{1}{4} & - \\frac{1}{4} & \\frac{3}{4}\\end{matrix}\\right]$"
      ],
      "text/plain": [
       "Matrix([\n",
       "[ 3/4, -1/4, -1/4],\n",
       "[-1/4,  3/4, -1/4],\n",
       "[-1/4, -1/4,  3/4]])"
      ]
     },
     "metadata": {},
     "output_type": "display_data"
    },
    {
     "name": "stdout",
     "output_type": "stream",
     "text": [
      "\n",
      "Inverse of matrix Q:\n"
     ]
    },
    {
     "data": {
      "text/latex": [
       "$\\displaystyle \\left[\\begin{matrix}\\frac{1}{3} & \\frac{2}{3} & 0\\\\0 & 1 & 0\\\\\\frac{4}{3} & - \\frac{4}{3} & 1\\end{matrix}\\right]$"
      ],
      "text/plain": [
       "Matrix([\n",
       "[1/3,  2/3, 0],\n",
       "[  0,    1, 0],\n",
       "[4/3, -4/3, 1]])"
      ]
     },
     "metadata": {},
     "output_type": "display_data"
    }
   ],
   "source": [
    "from sympy import Matrix\n",
    "\n",
    "# Define matrices P and Q\n",
    "P = Matrix([[2, 1, 1], [1, 2, 1], [1, 1, 2]])\n",
    "Q = Matrix([[3, -2, 0], [0, 1, 0], [-4, 4, 1]])\n",
    "\n",
    "# Find the inverse of matrices P and Q\n",
    "P_inverse = P.inv()\n",
    "Q_inverse = Q.inv()\n",
    "\n",
    "# Print the results\n",
    "print(\"Inverse of matrix P:\")\n",
    "display(P_inverse)\n",
    "\n",
    "print(\"\\nInverse of matrix Q:\")\n",
    "display(Q_inverse)\n"
   ]
  },
  {
   "cell_type": "markdown",
   "metadata": {},
   "source": [
    "Mendefinisikan Matriks P dan Q:\n",
    "Kode dimulai dengan mendefinisikan matriks P dan Q menggunakan kelas Matrix dari pustaka sympy. Matriks P dan Q diberikan sebagai argumen dalam bentuk daftar bersarang.\n",
    "\n",
    "Mencari Invers:\n",
    "Menggunakan metode inv() dari pustaka sympy untuk mencari invers dari matriks P dan Q. Hasil invers disimpan dalam variabel P_inverse dan Q_inverse.\n",
    "\n",
    "Menampilkan Hasil:\n",
    "Terakhir, hasil invers dari matriks P dan Q dicetak menggunakan pernyataan print()."
   ]
  }
 ],
 "metadata": {
  "kernelspec": {
   "display_name": "Python 3",
   "language": "python",
   "name": "python3"
  },
  "language_info": {
   "codemirror_mode": {
    "name": "ipython",
    "version": 3
   },
   "file_extension": ".py",
   "mimetype": "text/x-python",
   "name": "python",
   "nbconvert_exporter": "python",
   "pygments_lexer": "ipython3",
   "version": "3.12.0"
  }
 },
 "nbformat": 4,
 "nbformat_minor": 2
}
