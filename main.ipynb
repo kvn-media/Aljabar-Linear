{
 "cells": [
  {
   "cell_type": "code",
   "execution_count": 2,
   "metadata": {},
   "outputs": [
    {
     "data": {
      "text/latex": [
       "$\\displaystyle \\left[\\begin{matrix}a\\\\b\\\\c\\end{matrix}\\right]$"
      ],
      "text/plain": [
       "Matrix([\n",
       "[a],\n",
       "[b],\n",
       "[c]])"
      ]
     },
     "metadata": {},
     "output_type": "display_data"
    }
   ],
   "source": [
    "from sympy import Matrix, symbols\n",
    "\n",
    "# Definisikan variabel simbolik\n",
    "a, b, c = symbols('a b c')\n",
    "\n",
    "# Buat matriks kolom\n",
    "column_matrix = Matrix([\n",
    "    [a],\n",
    "    [b],\n",
    "    [c]\n",
    "])\n",
    "\n",
    "# Cetak matriks kolom\n",
    "display(column_matrix)\n"
   ]
  },
  {
   "cell_type": "code",
   "execution_count": 5,
   "metadata": {},
   "outputs": [
    {
     "data": {
      "text/latex": [
       "$\\displaystyle \\left[\\begin{matrix}a & 0 & 0\\\\b & d & 0\\\\c & e & f\\end{matrix}\\right]$"
      ],
      "text/plain": [
       "Matrix([\n",
       "[a, 0, 0],\n",
       "[b, d, 0],\n",
       "[c, e, f]])"
      ]
     },
     "metadata": {},
     "output_type": "display_data"
    }
   ],
   "source": [
    "from sympy import Matrix, symbols\n",
    "\n",
    "# Definisikan variabel simbolik\n",
    "a, b, c, d, e, f = symbols('a b c d e f')\n",
    "\n",
    "# Buat matriks segitiga atas\n",
    "upper_triangular_matrix = Matrix([\n",
    "    [a, 0, 0],\n",
    "    [b, d, 0],\n",
    "    [c, e, f]\n",
    "])\n",
    "\n",
    "# Cetak matriks segitiga atas\n",
    "display(upper_triangular_matrix)\n"
   ]
  },
  {
   "cell_type": "code",
   "execution_count": 6,
   "metadata": {},
   "outputs": [
    {
     "data": {
      "text/latex": [
       "$\\displaystyle \\left[\\begin{matrix}a & b & c\\\\0 & d & e\\\\0 & 0 & f\\end{matrix}\\right]$"
      ],
      "text/plain": [
       "Matrix([\n",
       "[a, b, c],\n",
       "[0, d, e],\n",
       "[0, 0, f]])"
      ]
     },
     "metadata": {},
     "output_type": "display_data"
    }
   ],
   "source": [
    "from sympy import Matrix, symbols\n",
    "\n",
    "# Definisikan variabel simbolik\n",
    "a, b, c, d, e, f = symbols('a b c d e f')\n",
    "\n",
    "# Buat matriks segitiga atas\n",
    "upper_triangular_matrix = Matrix([\n",
    "    [a, b, c],\n",
    "    [0, d, e],\n",
    "    [0, 0, f]\n",
    "])\n",
    "\n",
    "# Cetak matriks segitiga atas\n",
    "display(upper_triangular_matrix)\n"
   ]
  },
  {
   "cell_type": "code",
   "execution_count": 7,
   "metadata": {},
   "outputs": [
    {
     "data": {
      "text/latex": [
       "$\\displaystyle \\left[\\begin{matrix}a & 0 & 0\\\\0 & b & 0\\\\0 & 0 & c\\end{matrix}\\right]$"
      ],
      "text/plain": [
       "Matrix([\n",
       "[a, 0, 0],\n",
       "[0, b, 0],\n",
       "[0, 0, c]])"
      ]
     },
     "metadata": {},
     "output_type": "display_data"
    }
   ],
   "source": [
    "from sympy import Matrix, symbols\n",
    "\n",
    "# Definisikan variabel simbolik\n",
    "a, b, c = symbols('a b c')\n",
    "\n",
    "# Buat matriks diagonal utama\n",
    "diagonal_matrix = Matrix([\n",
    "    [a, 0, 0],\n",
    "    [0, b, 0],\n",
    "    [0, 0, c]\n",
    "])\n",
    "\n",
    "# Cetak matriks diagonal utama\n",
    "display(diagonal_matrix)"
   ]
  },
  {
   "cell_type": "code",
   "execution_count": 8,
   "metadata": {},
   "outputs": [
    {
     "data": {
      "text/latex": [
       "$\\displaystyle \\left[\\begin{matrix}1 & 0 & 0\\\\0 & 1 & 0\\\\0 & 0 & 1\\end{matrix}\\right]$"
      ],
      "text/plain": [
       "Matrix([\n",
       "[1, 0, 0],\n",
       "[0, 1, 0],\n",
       "[0, 0, 1]])"
      ]
     },
     "metadata": {},
     "output_type": "display_data"
    }
   ],
   "source": [
    "from sympy import eye\n",
    "\n",
    "# Buat matriks identitas berordo 3x3\n",
    "identity_matrix = eye(3)\n",
    "\n",
    "# Cetak matriks identitas\n",
    "display(identity_matrix)"
   ]
  },
  {
   "cell_type": "code",
   "execution_count": 13,
   "metadata": {},
   "outputs": [
    {
     "name": "stdout",
     "output_type": "stream",
     "text": [
      "Matriks Bujur Sangkar:\n"
     ]
    },
    {
     "data": {
      "text/latex": [
       "$\\displaystyle \\left[\\begin{matrix}2 & 4\\\\1 & 2\\end{matrix}\\right]$"
      ],
      "text/plain": [
       "Matrix([\n",
       "[2, 4],\n",
       "[1, 2]])"
      ]
     },
     "metadata": {},
     "output_type": "display_data"
    },
    {
     "name": "stdout",
     "output_type": "stream",
     "text": [
      "\n",
      "Rank Matriks: 1\n"
     ]
    }
   ],
   "source": [
    "from sympy import Matrix\n",
    "\n",
    "# Buat matriks bujur sangkar dengan bilangan bulat\n",
    "square_matrix = Matrix([\n",
    "    [2, 4],\n",
    "    [1, 2]\n",
    "])\n",
    "\n",
    "# Cetak matriks bujur sangkar\n",
    "print(\"Matriks Bujur Sangkar:\")\n",
    "display(square_matrix)\n",
    "\n",
    "# Tentukan rank matriks\n",
    "rank_matrix = square_matrix.rank()\n",
    "\n",
    "# Cetak rank matriks\n",
    "print(\"\\nRank Matriks:\", rank_matrix)\n"
   ]
  },
  {
   "cell_type": "code",
   "execution_count": 14,
   "metadata": {},
   "outputs": [
    {
     "name": "stdout",
     "output_type": "stream",
     "text": [
      "Matriks Bujur Sangkar:\n"
     ]
    },
    {
     "data": {
      "text/latex": [
       "$\\displaystyle \\left[\\begin{matrix}2 & 4\\\\1 & 3\\end{matrix}\\right]$"
      ],
      "text/plain": [
       "Matrix([\n",
       "[2, 4],\n",
       "[1, 3]])"
      ]
     },
     "metadata": {},
     "output_type": "display_data"
    },
    {
     "name": "stdout",
     "output_type": "stream",
     "text": [
      "\n",
      "Determinan Matriks: 2\n"
     ]
    }
   ],
   "source": [
    "from sympy import Matrix\n",
    "\n",
    "# Buat matriks bujur sangkar dengan bilangan bulat\n",
    "square_matrix = Matrix([\n",
    "    [2, 4],\n",
    "    [1, 3]\n",
    "])\n",
    "\n",
    "# Cetak matriks bujur sangkar\n",
    "print(\"Matriks Bujur Sangkar:\")\n",
    "display(square_matrix)\n",
    "\n",
    "# Tentukan determinan matriks\n",
    "determinant_matrix = square_matrix.det()\n",
    "\n",
    "# Cetak determinan matriks\n",
    "print(\"\\nDeterminan Matriks:\", determinant_matrix)\n"
   ]
  }
 ],
 "metadata": {
  "kernelspec": {
   "display_name": "Python 3",
   "language": "python",
   "name": "python3"
  },
  "language_info": {
   "codemirror_mode": {
    "name": "ipython",
    "version": 3
   },
   "file_extension": ".py",
   "mimetype": "text/x-python",
   "name": "python",
   "nbconvert_exporter": "python",
   "pygments_lexer": "ipython3",
   "version": "3.12.0"
  }
 },
 "nbformat": 4,
 "nbformat_minor": 2
}
